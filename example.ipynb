{
 "metadata": {
  "language_info": {
   "codemirror_mode": {
    "name": "ipython",
    "version": 3
   },
   "file_extension": ".py",
   "mimetype": "text/x-python",
   "name": "python",
   "nbconvert_exporter": "python",
   "pygments_lexer": "ipython3",
   "version": "3.8.1-final"
  },
  "orig_nbformat": 2,
  "kernelspec": {
   "name": "Python 3.8.1 64-bit ('simple-entity': pipenv)",
   "display_name": "Python 3.8.1 64-bit ('simple-entity': pipenv)",
   "metadata": {
    "interpreter": {
     "hash": "56423310e4fdb0d0e6cf6f2914ffa1d65bd5e88cbf8b3af95fdbea1a2bc4f4bf"
    }
   }
  }
 },
 "nbformat": 4,
 "nbformat_minor": 2,
 "cells": [
  {
   "source": [
    "import logging\n",
    "logging.basicConfig(level=logging.INFO)"
   ],
   "cell_type": "code",
   "metadata": {},
   "execution_count": 1,
   "outputs": []
  },
  {
   "source": [
    "from simple_entity import Entity"
   ],
   "cell_type": "code",
   "metadata": {},
   "execution_count": 2,
   "outputs": []
  },
  {
   "cell_type": "code",
   "execution_count": 3,
   "metadata": {},
   "outputs": [],
   "source": [
    "from datetime import datetime\n",
    "from typing import List\n",
    "class Activity(Entity):\n",
    "    title: str = 'activity'\n",
    "    timeCreate: datetime = None\n",
    "    timeEnd: datetime = None\n",
    "    timeEdit: datetime = None\n",
    "\n",
    "    def update(self,fields:List[str]):\n",
    "        self.timeEdit = datetime.now()"
   ]
  },
  {
   "cell_type": "code",
   "execution_count": 4,
   "metadata": {},
   "outputs": [],
   "source": [
    "activity = Activity(title='example',timeCreate=datetime.now(),timeEnd=datetime(2020,12,31))"
   ]
  },
  {
   "cell_type": "code",
   "execution_count": 5,
   "metadata": {},
   "outputs": [
    {
     "output_type": "execute_result",
     "data": {
      "text/plain": [
       "Activity(_id='ca5860c6-e45e-4a3c-b79a-2326cc03e4d4', title='example', timeCreate=datetime.datetime(2020, 10, 15, 13, 42, 3, 543522), timeEnd=datetime.datetime(2020, 12, 31, 0, 0), timeEdit=None)"
      ]
     },
     "metadata": {},
     "execution_count": 5
    }
   ],
   "source": [
    "activity"
   ]
  },
  {
   "cell_type": "code",
   "execution_count": 6,
   "metadata": {},
   "outputs": [
    {
     "output_type": "stream",
     "name": "stderr",
     "text": [
      "INFO:simple_entity:Call method \"to_dict\" of Activity(_id='ca5860c6-e45e-4a3c-b79a-2326cc03e4d4', title='example', timeCreate=datetime.datetime(2020, 10, 15, 13, 42, 3, 543522), timeEnd=datetime.datetime(2020, 12, 31, 0, 0), timeEdit=None) with args () kwargs {} returns {'_id': 'ca5860c6-e45e-4a3c-b79a-2326cc03e4d4', 'title': 'example', 'timeCreate': datetime.datetime(2020, 10, 15, 13, 42, 3, 543522), 'timeEnd': datetime.datetime(2020, 12, 31, 0, 0), 'timeEdit': None}\n"
     ]
    },
    {
     "output_type": "execute_result",
     "data": {
      "text/plain": [
       "{'_id': 'ca5860c6-e45e-4a3c-b79a-2326cc03e4d4',\n",
       " 'title': 'example',\n",
       " 'timeCreate': datetime.datetime(2020, 10, 15, 13, 42, 3, 543522),\n",
       " 'timeEnd': datetime.datetime(2020, 12, 31, 0, 0),\n",
       " 'timeEdit': None}"
      ]
     },
     "metadata": {},
     "execution_count": 6
    }
   ],
   "source": [
    "activity.to_dict()"
   ]
  },
  {
   "cell_type": "code",
   "execution_count": 8,
   "metadata": {},
   "outputs": [
    {
     "output_type": "stream",
     "name": "stderr",
     "text": [
      "INFO:simple_entity:Call method \"update\" of Activity(_id='ca5860c6-e45e-4a3c-b79a-2326cc03e4d4', title='example', timeCreate=datetime.datetime(2020, 10, 15, 13, 42, 3, 543522), timeEnd=datetime.datetime(2020, 12, 31, 0, 0), timeEdit=datetime.datetime(2020, 10, 15, 13, 42, 22, 801415)) with args ([],) kwargs {} returns None\n"
     ]
    }
   ],
   "source": [
    "activity.update([])"
   ]
  },
  {
   "cell_type": "code",
   "execution_count": null,
   "metadata": {},
   "outputs": [],
   "source": []
  }
 ]
}