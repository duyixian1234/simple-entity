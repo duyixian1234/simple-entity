{
 "cells": [
  {
   "cell_type": "code",
   "execution_count": null,
   "metadata": {},
   "outputs": [],
   "source": [
    "%load_ext autoreload\n",
    "%autoreload 2"
   ]
  },
  {
   "cell_type": "code",
   "execution_count": 1,
   "metadata": {},
   "outputs": [],
   "source": [
    "import logging\n",
    "logging.basicConfig(level=logging.INFO)"
   ]
  },
  {
   "cell_type": "code",
   "execution_count": 2,
   "metadata": {},
   "outputs": [],
   "source": [
    "from simple_entity import Entity, basicConfig"
   ]
  },
  {
   "cell_type": "code",
   "execution_count": 3,
   "metadata": {},
   "outputs": [],
   "source": [
    "from datetime import datetime\n",
    "from typing import List\n",
    "class Activity(Entity):\n",
    "    title: str = 'activity'\n",
    "    timeCreate: datetime = None\n",
    "    timeEnd: datetime = None\n",
    "    timeEdit: datetime = None\n",
    "\n",
    "    def update(self,fields:List[str]):\n",
    "        self.timeEdit = datetime.now()"
   ]
  },
  {
   "cell_type": "code",
   "execution_count": 10,
   "metadata": {},
   "outputs": [],
   "source": [
    "import random\n",
    "basicConfig(unique_id_generator=lambda :str(random.randint(1000,9999)),log_func=print)"
   ]
  },
  {
   "cell_type": "code",
   "execution_count": 4,
   "metadata": {},
   "outputs": [],
   "source": [
    "activity = Activity(title='example',timeCreate=datetime.now(),timeEnd=datetime(2020,12,31))"
   ]
  },
  {
   "cell_type": "code",
   "execution_count": 5,
   "metadata": {},
   "outputs": [
    {
     "data": {
      "text/plain": [
       "Activity(_id='4b4b7c8a-c98e-4f4d-a504-d66cee75de3f', title='example', timeCreate=datetime.datetime(2020, 10, 15, 16, 45, 47, 158531), timeEnd=datetime.datetime(2020, 12, 31, 0, 0), timeEdit=None)"
      ]
     },
     "execution_count": 5,
     "metadata": {},
     "output_type": "execute_result"
    }
   ],
   "source": [
    "activity"
   ]
  },
  {
   "cell_type": "code",
   "execution_count": 6,
   "metadata": {},
   "outputs": [
    {
     "data": {
      "text/plain": [
       "{'_id': '4b4b7c8a-c98e-4f4d-a504-d66cee75de3f',\n",
       " 'title': 'example',\n",
       " 'timeCreate': datetime.datetime(2020, 10, 15, 16, 45, 47, 158531),\n",
       " 'timeEnd': datetime.datetime(2020, 12, 31, 0, 0),\n",
       " 'timeEdit': None}"
      ]
     },
     "execution_count": 6,
     "metadata": {},
     "output_type": "execute_result"
    }
   ],
   "source": [
    "activity.to_dict()"
   ]
  },
  {
   "cell_type": "code",
   "execution_count": 11,
   "metadata": {},
   "outputs": [
    {
     "name": "stdout",
     "output_type": "stream",
     "text": [
      "Call method \"update\" of Activity(_id='4b4b7c8a-c98e-4f4d-a504-d66cee75de3f', title='example', timeCreate=datetime.datetime(2020, 10, 15, 16, 45, 47, 158531), timeEnd=datetime.datetime(2020, 12, 31, 0, 0), timeEdit=datetime.datetime(2020, 10, 15, 16, 46, 37, 86778)) with args ([],) kwargs {} returns None\n"
     ]
    }
   ],
   "source": [
    "activity.update([])"
   ]
  },
  {
   "cell_type": "code",
   "execution_count": 9,
   "metadata": {},
   "outputs": [
    {
     "data": {
      "text/plain": [
       "Activity(_id='4b4b7c8a-c98e-4f4d-a504-d66cee75de3f', title='example', timeCreate=datetime.datetime(2020, 10, 15, 16, 45, 47, 158531), timeEnd=datetime.datetime(2020, 12, 31, 0, 0), timeEdit=datetime.datetime(2020, 10, 15, 16, 45, 48, 777301))"
      ]
     },
     "execution_count": 9,
     "metadata": {},
     "output_type": "execute_result"
    }
   ],
   "source": [
    "Activity.from_dict(activity.to_dict())"
   ]
  },
  {
   "cell_type": "code",
   "execution_count": 8,
   "metadata": {},
   "outputs": [],
   "source": [
    "import random"
   ]
  },
  {
   "cell_type": "code",
   "execution_count": null,
   "metadata": {},
   "outputs": [],
   "source": [
    "def my_genuuid():\n",
    "    return str(random.randint(1000,9999))"
   ]
  },
  {
   "cell_type": "code",
   "execution_count": null,
   "metadata": {},
   "outputs": [],
   "source": [
    "Config.gen_uuid = my_genuuid"
   ]
  },
  {
   "cell_type": "code",
   "execution_count": null,
   "metadata": {},
   "outputs": [],
   "source": [
    "Activity()"
   ]
  },
  {
   "cell_type": "code",
   "execution_count": null,
   "metadata": {},
   "outputs": [],
   "source": []
  }
 ],
 "metadata": {
  "kernelspec": {
   "display_name": "Python 3",
   "language": "python",
   "name": "python3"
  },
  "language_info": {
   "codemirror_mode": {
    "name": "ipython",
    "version": 3
   },
   "file_extension": ".py",
   "mimetype": "text/x-python",
   "name": "python",
   "nbconvert_exporter": "python",
   "pygments_lexer": "ipython3",
   "version": "3.8.0"
  }
 },
 "nbformat": 4,
 "nbformat_minor": 4
}
